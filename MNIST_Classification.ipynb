{
 "cells": [
  {
   "cell_type": "code",
   "execution_count": 1,
   "id": "6df5cb6a-2506-4450-8826-e33e3e77a357",
   "metadata": {},
   "outputs": [
    {
     "name": "stdout",
     "output_type": "stream",
     "text": [
      "Requirement already satisfied: brevitas in c:\\python312\\lib\\site-packages (0.10.3)\n",
      "Requirement already satisfied: dependencies==2.0.1 in c:\\python312\\lib\\site-packages (from brevitas) (2.0.1)\n",
      "Requirement already satisfied: numpy<=1.26.4 in c:\\python312\\lib\\site-packages (from brevitas) (1.26.4)\n",
      "Requirement already satisfied: packaging in c:\\python312\\lib\\site-packages (from brevitas) (24.1)\n",
      "Requirement already satisfied: setuptools<70.0 in c:\\python312\\lib\\site-packages (from brevitas) (69.2.0)\n",
      "Requirement already satisfied: sympy in c:\\python312\\lib\\site-packages (from brevitas) (1.12)\n",
      "Requirement already satisfied: torch>=1.9.1 in c:\\python312\\lib\\site-packages (from brevitas) (2.2.2)\n",
      "Requirement already satisfied: typing-extensions>=3.7.4 in c:\\python312\\lib\\site-packages (from brevitas) (4.10.0)\n",
      "Requirement already satisfied: unfoldNd in c:\\python312\\lib\\site-packages (from brevitas) (0.2.2)\n",
      "Requirement already satisfied: filelock in c:\\python312\\lib\\site-packages (from torch>=1.9.1->brevitas) (3.13.3)\n",
      "Requirement already satisfied: networkx in c:\\python312\\lib\\site-packages (from torch>=1.9.1->brevitas) (3.2.1)\n",
      "Requirement already satisfied: jinja2 in c:\\python312\\lib\\site-packages (from torch>=1.9.1->brevitas) (3.1.3)\n",
      "Requirement already satisfied: fsspec in c:\\python312\\lib\\site-packages (from torch>=1.9.1->brevitas) (2024.3.1)\n",
      "Requirement already satisfied: mpmath>=0.19 in c:\\python312\\lib\\site-packages (from sympy->brevitas) (1.3.0)\n",
      "Requirement already satisfied: MarkupSafe>=2.0 in c:\\python312\\lib\\site-packages (from jinja2->torch>=1.9.1->brevitas) (2.1.5)\n",
      "Note: you may need to restart the kernel to use updated packages.\n"
     ]
    }
   ],
   "source": [
    "pip install brevitas\n"
   ]
  },
  {
   "cell_type": "code",
   "execution_count": 2,
   "id": "0d30e753-4174-4620-b001-fca3e2d86b1b",
   "metadata": {},
   "outputs": [],
   "source": [
    "import torch\n",
    "import torch.nn as nn\n",
    "import torch.optim as optim\n",
    "from torchvision import datasets, transforms\n",
    "from torch.utils.data import DataLoader\n",
    "from brevitas.nn import QuantConv2d, QuantLinear\n",
    "import torch.nn.utils.prune as prune\n"
   ]
  },
  {
   "cell_type": "code",
   "execution_count": 3,
   "id": "861c5ea1-77fd-4e67-ab2e-f30488c5bc26",
   "metadata": {},
   "outputs": [],
   "source": [
    "# Define transformations for the dataset\n",
    "transform = transforms.Compose([\n",
    "    transforms.ToTensor(),\n",
    "    transforms.Normalize((0.5,), (0.5,))\n",
    "])\n"
   ]
  },
  {
   "cell_type": "code",
   "execution_count": 4,
   "id": "6fd27956-d962-45d0-974f-64c0b279c263",
   "metadata": {},
   "outputs": [],
   "source": [
    "\n",
    "# Load MNIST dataset\n",
    "train_dataset = datasets.MNIST(root='./data', train=True, download=True, transform=transform)\n",
    "test_dataset = datasets.MNIST(root='./data', train=False, download=True, transform=transform)\n",
    "\n",
    "\n",
    "# Data loaders\n",
    "train_loader = DataLoader(dataset=train_dataset, batch_size=64, shuffle=True)\n",
    "test_loader = DataLoader(dataset=test_dataset, batch_size=64, shuffle=False)\n",
    "\n",
    "\n"
   ]
  },
  {
   "cell_type": "code",
   "execution_count": 5,
   "id": "e4b4696a-ebb6-4ed8-b586-b15420d1757d",
   "metadata": {},
   "outputs": [],
   "source": [
    "# Define CNN model with Brevitas quantization (3-bit)\n",
    "class QuantizedCNN(nn.Module):\n",
    "    def __init__(self):\n",
    "        super(QuantizedCNN, self).__init__()\n",
    "        # Quantized convolutional layer (3-bit quantization)\n",
    "        self.conv1 = QuantConv2d(\n",
    "            in_channels=1, out_channels=16, kernel_size=3, padding=1,\n",
    "            weight_bit_width=3, bias=False)\n",
    "        self.pool = nn.MaxPool2d(kernel_size=2, stride=2)\n",
    "        # Quantized fully connected layer (3-bit quantization)\n",
    "        self.fc = QuantLinear(16 * 14 * 14, 10, weight_bit_width=3, bias=True)\n",
    "\n",
    "\n",
    "    def forward(self, x):\n",
    "        x = self.pool(torch.relu(self.conv1(x)))\n",
    "        x = x.view(-1, 16 * 14 * 14)  # Flatten the output for the fully connected layer\n",
    "        x = self.fc(x)\n",
    "        return x\n",
    "\n",
    "\n"
   ]
  },
  {
   "cell_type": "code",
   "execution_count": 6,
   "id": "d1f64bee-9d27-432c-8401-40c4020b5ca2",
   "metadata": {},
   "outputs": [],
   "source": [
    "# Initialize the model, loss function, and optimizer\n",
    "model = QuantizedCNN()\n",
    "criterion = nn.CrossEntropyLoss()\n",
    "optimizer = optim.Adam(model.parameters(), lr=0.001)\n",
    "\n"
   ]
  },
  {
   "cell_type": "code",
   "execution_count": 7,
   "id": "a83ec5f7-02bb-4ce7-be3c-c50ca4227963",
   "metadata": {},
   "outputs": [
    {
     "name": "stdout",
     "output_type": "stream",
     "text": [
      "Weights before pruning:\n",
      "Conv1 Weights: tensor([[[[-0.0910, -0.2786,  0.2632],\n",
      "          [-0.0710,  0.1576,  0.0442],\n",
      "          [-0.1047, -0.2730,  0.2813]]],\n",
      "\n",
      "\n",
      "        [[[-0.1965,  0.0082, -0.2192],\n",
      "          [ 0.2025,  0.2554, -0.0031],\n",
      "          [ 0.1823,  0.2169,  0.0707]]],\n",
      "\n",
      "\n",
      "        [[[ 0.2922,  0.2998,  0.0036],\n",
      "          [ 0.0670, -0.0631, -0.0249],\n",
      "          [ 0.2618,  0.0044,  0.1424]]],\n",
      "\n",
      "\n",
      "        [[[-0.3102, -0.0480, -0.3234],\n",
      "          [-0.0128, -0.2154, -0.0218],\n",
      "          [-0.2907, -0.1889, -0.3316]]],\n",
      "\n",
      "\n",
      "        [[[-0.1970, -0.0988, -0.1040],\n",
      "          [-0.0712, -0.0657,  0.1960],\n",
      "          [ 0.2197, -0.0778, -0.1412]]],\n",
      "\n",
      "\n",
      "        [[[-0.2037,  0.0770,  0.2956],\n",
      "          [ 0.1054, -0.2304, -0.1873],\n",
      "          [ 0.2428, -0.0365, -0.1745]]],\n",
      "\n",
      "\n",
      "        [[[ 0.1458,  0.1240, -0.1930],\n",
      "          [-0.1460, -0.1581, -0.3102],\n",
      "          [-0.1753, -0.0260, -0.2082]]],\n",
      "\n",
      "\n",
      "        [[[ 0.1877,  0.1062, -0.0604],\n",
      "          [-0.1049,  0.1274, -0.2945],\n",
      "          [-0.0793,  0.2840,  0.0659]]],\n",
      "\n",
      "\n",
      "        [[[-0.2331,  0.2123, -0.2157],\n",
      "          [-0.1507,  0.0010,  0.0716],\n",
      "          [-0.1126, -0.1770,  0.0203]]],\n",
      "\n",
      "\n",
      "        [[[-0.1894, -0.2833,  0.1512],\n",
      "          [ 0.3209, -0.1665, -0.1160],\n",
      "          [ 0.2997, -0.2535, -0.1416]]],\n",
      "\n",
      "\n",
      "        [[[ 0.1919,  0.1729,  0.0556],\n",
      "          [-0.1688,  0.1121, -0.0710],\n",
      "          [ 0.1950, -0.1871, -0.0481]]],\n",
      "\n",
      "\n",
      "        [[[-0.0397,  0.1605, -0.0006],\n",
      "          [ 0.0755, -0.0277,  0.2788],\n",
      "          [ 0.3258,  0.0511, -0.1150]]],\n",
      "\n",
      "\n",
      "        [[[-0.3311, -0.0319, -0.2854],\n",
      "          [ 0.0945,  0.3208,  0.1911],\n",
      "          [-0.1932,  0.2986,  0.2789]]],\n",
      "\n",
      "\n",
      "        [[[ 0.3319,  0.2603,  0.1481],\n",
      "          [-0.1318,  0.2095,  0.0364],\n",
      "          [ 0.1439, -0.0811,  0.2371]]],\n",
      "\n",
      "\n",
      "        [[[ 0.2377, -0.2162,  0.2445],\n",
      "          [ 0.2219, -0.2240, -0.2431],\n",
      "          [-0.2491,  0.2872, -0.2591]]],\n",
      "\n",
      "\n",
      "        [[[-0.2805,  0.2842,  0.1476],\n",
      "          [ 0.2430,  0.3310, -0.3007],\n",
      "          [ 0.1465, -0.2829, -0.1710]]]])\n",
      "FC Weights: tensor([[ 0.0040, -0.0119, -0.0002,  ..., -0.0007,  0.0139,  0.0033],\n",
      "        [ 0.0143,  0.0037, -0.0164,  ..., -0.0069, -0.0130, -0.0130],\n",
      "        [ 0.0133,  0.0025, -0.0152,  ...,  0.0058, -0.0017,  0.0037],\n",
      "        ...,\n",
      "        [ 0.0013,  0.0125,  0.0050,  ..., -0.0049, -0.0076,  0.0162],\n",
      "        [-0.0072,  0.0088, -0.0063,  ...,  0.0144,  0.0161,  0.0033],\n",
      "        [ 0.0160,  0.0090, -0.0003,  ...,  0.0165,  0.0048,  0.0018]])\n"
     ]
    }
   ],
   "source": [
    "# Print initial weights (before pruning)\n",
    "print(\"Weights before pruning:\")\n",
    "print(\"Conv1 Weights:\", model.conv1.weight.data)\n",
    "print(\"FC Weights:\", model.fc.weight.data)\n",
    "\n",
    "\n"
   ]
  },
  {
   "cell_type": "code",
   "execution_count": 8,
   "id": "37d67446-6e7d-459a-b32b-c38497a686ee",
   "metadata": {},
   "outputs": [],
   "source": [
    "# Apply global unstructured pruning (prune 70% of the weights)\n",
    "parameters_to_prune = (\n",
    "    (model.conv1, 'weight'),\n",
    "    (model.fc, 'weight')\n",
    ")\n",
    "\n",
    "prune.global_unstructured(\n",
    "    parameters_to_prune,\n",
    "    pruning_method=prune.L1Unstructured,\n",
    "    amount=0.7,  # Prune 70% of the weights globally\n",
    ")\n"
   ]
  },
  {
   "cell_type": "code",
   "execution_count": 9,
   "id": "b0b0ec25-7966-443f-a25d-d65109d0832e",
   "metadata": {},
   "outputs": [
    {
     "data": {
      "text/plain": [
       "QuantLinear(\n",
       "  in_features=3136, out_features=10, bias=True\n",
       "  (input_quant): ActQuantProxyFromInjector(\n",
       "    (_zero_hw_sentinel): StatelessBuffer()\n",
       "  )\n",
       "  (output_quant): ActQuantProxyFromInjector(\n",
       "    (_zero_hw_sentinel): StatelessBuffer()\n",
       "  )\n",
       "  (weight_quant): WeightQuantProxyFromInjector(\n",
       "    (_zero_hw_sentinel): StatelessBuffer()\n",
       "    (tensor_quant): RescalingIntQuant(\n",
       "      (int_quant): IntQuant(\n",
       "        (float_to_int_impl): RoundSte()\n",
       "        (tensor_clamp_impl): TensorClampSte()\n",
       "        (delay_wrapper): DelayWrapper(\n",
       "          (delay_impl): _NoDelay()\n",
       "        )\n",
       "      )\n",
       "      (scaling_impl): StatsFromParameterScaling(\n",
       "        (parameter_list_stats): _ParameterListStats(\n",
       "          (first_tracked_param): _ViewParameterWrapper(\n",
       "            (view_shape_impl): OverTensorView()\n",
       "          )\n",
       "          (stats): _Stats(\n",
       "            (stats_impl): AbsMax()\n",
       "          )\n",
       "        )\n",
       "        (stats_scaling_impl): _StatsScaling(\n",
       "          (affine_rescaling): Identity()\n",
       "          (restrict_clamp_scaling): _RestrictClampValue(\n",
       "            (clamp_min_ste): ScalarClampMinSte()\n",
       "            (restrict_value_impl): FloatRestrictValue()\n",
       "          )\n",
       "          (restrict_scaling_pre): Identity()\n",
       "        )\n",
       "      )\n",
       "      (int_scaling_impl): IntScaling()\n",
       "      (zero_point_impl): ZeroZeroPoint(\n",
       "        (zero_point): StatelessBuffer()\n",
       "      )\n",
       "      (msb_clamp_bit_width_impl): BitWidthConst(\n",
       "        (bit_width): StatelessBuffer()\n",
       "      )\n",
       "    )\n",
       "  )\n",
       "  (bias_quant): BiasQuantProxyFromInjector(\n",
       "    (_zero_hw_sentinel): StatelessBuffer()\n",
       "  )\n",
       ")"
      ]
     },
     "execution_count": 9,
     "metadata": {},
     "output_type": "execute_result"
    }
   ],
   "source": [
    "# Permanently remove the pruned weights\n",
    "prune.remove(model.conv1, 'weight')\n",
    "prune.remove(model.fc, 'weight')\n"
   ]
  },
  {
   "cell_type": "code",
   "execution_count": 10,
   "id": "d19ac768-35c0-43e9-819c-90f5558e35d9",
   "metadata": {},
   "outputs": [
    {
     "name": "stderr",
     "output_type": "stream",
     "text": [
      "C:\\Python312\\Lib\\site-packages\\torch\\_tensor.py:1394: UserWarning: Named tensors and all their associated APIs are an experimental feature and subject to change. Please do not use them for anything important until they are released as stable. (Triggered internally at ..\\c10/core/TensorImpl.h:1911.)\n",
      "  return super().rename(names)\n"
     ]
    },
    {
     "name": "stdout",
     "output_type": "stream",
     "text": [
      "Epoch [1/5], Loss: 0.1436\n",
      "Epoch [2/5], Loss: 0.0405\n",
      "Epoch [3/5], Loss: 0.0754\n",
      "Epoch [4/5], Loss: 0.0150\n",
      "Epoch [5/5], Loss: 0.0510\n"
     ]
    }
   ],
   "source": [
    "# Training loop\n",
    "num_epochs = 5\n",
    "for epoch in range(num_epochs):\n",
    "    for images, labels in train_loader:\n",
    "        optimizer.zero_grad()\n",
    "        outputs = model(images)\n",
    "        loss = criterion(outputs, labels)\n",
    "        loss.backward()\n",
    "        optimizer.step()\n",
    "    print(f'Epoch [{epoch+1}/{num_epochs}], Loss: {loss.item():.4f}')\n",
    "\n"
   ]
  },
  {
   "cell_type": "code",
   "execution_count": 11,
   "id": "c9e76238-33b5-4203-9655-211b12c376ce",
   "metadata": {},
   "outputs": [
    {
     "name": "stdout",
     "output_type": "stream",
     "text": [
      "Accuracy of the pruned 3-bit quantized model on the test images: 97.16%\n"
     ]
    }
   ],
   "source": [
    "# Testing loop\n",
    "correct = 0\n",
    "total = 0\n",
    "with torch.no_grad():\n",
    "    for images, labels in test_loader:\n",
    "        outputs = model(images)\n",
    "        _, predicted = torch.max(outputs.data, 1)\n",
    "        total += labels.size(0)\n",
    "        correct += (predicted == labels).sum().item()\n",
    "\n",
    "print(f'Accuracy of the pruned 3-bit quantized model on the test images: {100 * correct / total:.2f}%')\n",
    "\n"
   ]
  },
  {
   "cell_type": "code",
   "execution_count": null,
   "id": "a026ff62-f1b5-410c-9bde-4cc6ba125436",
   "metadata": {},
   "outputs": [],
   "source": []
  }
 ],
 "metadata": {
  "kernelspec": {
   "display_name": "Python 3 (ipykernel)",
   "language": "python",
   "name": "python3"
  },
  "language_info": {
   "codemirror_mode": {
    "name": "ipython",
    "version": 3
   },
   "file_extension": ".py",
   "mimetype": "text/x-python",
   "name": "python",
   "nbconvert_exporter": "python",
   "pygments_lexer": "ipython3",
   "version": "3.12.2"
  }
 },
 "nbformat": 4,
 "nbformat_minor": 5
}
